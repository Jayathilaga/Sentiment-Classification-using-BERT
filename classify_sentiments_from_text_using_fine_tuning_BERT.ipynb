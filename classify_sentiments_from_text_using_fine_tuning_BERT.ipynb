{
 "cells": [
  {
   "cell_type": "code",
   "execution_count": 1,
   "metadata": {
    "id": "zaafz6QCvNWx"
   },
   "outputs": [],
   "source": [
    "import torch\n",
    "import pandas as pd\n",
    "import re\n",
    "import numpy as np\n",
    "import matplotlib.pyplot as plt\n",
    "%matplotlib inline"
   ]
  },
  {
   "cell_type": "code",
   "execution_count": 2,
   "metadata": {
    "colab": {
     "base_uri": "https://localhost:8080/"
    },
    "id": "nC1g0cJ69W6L",
    "outputId": "9d557d18-e4c6-4fde-e483-6ba3dbc3d2c4"
   },
   "outputs": [
    {
     "name": "stdout",
     "output_type": "stream",
     "text": [
      "There are 1 GPU(s) available.\n",
      "Device name: NVIDIA GeForce RTX 3060 Laptop GPU\n"
     ]
    }
   ],
   "source": [
    "if torch.cuda.is_available():       \n",
    "    device = torch.device(\"cuda\")\n",
    "    print(f'There are {torch.cuda.device_count()} GPU(s) available.')\n",
    "    print('Device name:', torch.cuda.get_device_name(0))\n",
    "\n",
    "else:\n",
    "    print('No GPU available, using the CPU instead.')\n",
    "    device = torch.device(\"cpu\")"
   ]
  },
  {
   "cell_type": "markdown",
   "metadata": {},
   "source": [
    "# Loading Yelp Review Dataset for Sentiment classification from Text"
   ]
  },
  {
   "cell_type": "code",
   "execution_count": 3,
   "metadata": {
    "colab": {
     "base_uri": "https://localhost:8080/"
    },
    "id": "uiIdRlGAv1XA",
    "outputId": "f071288d-088c-4115-9699-39f4cfcb7c09"
   },
   "outputs": [],
   "source": [
    "train_data=  pd.read_csv('train.tsv',sep='\\t')\n",
    "train_data = train_data[:1000]\n",
    "val_data =  pd.read_csv('val.tsv',sep='\\t')\n",
    "val_data = val_data[:500]\n",
    "def data_preprocessing(text):\n",
    "    text = re.sub(r'&amp;', '&', text)\n",
    "    text = re.sub(r'\\s+', ' ', text).strip()\n",
    "    return text"
   ]
  },
  {
   "cell_type": "code",
   "execution_count": 4,
   "metadata": {},
   "outputs": [
    {
     "data": {
      "text/html": [
       "<div>\n",
       "<style scoped>\n",
       "    .dataframe tbody tr th:only-of-type {\n",
       "        vertical-align: middle;\n",
       "    }\n",
       "\n",
       "    .dataframe tbody tr th {\n",
       "        vertical-align: top;\n",
       "    }\n",
       "\n",
       "    .dataframe thead th {\n",
       "        text-align: right;\n",
       "    }\n",
       "</style>\n",
       "<table border=\"1\" class=\"dataframe\">\n",
       "  <thead>\n",
       "    <tr style=\"text-align: right;\">\n",
       "      <th></th>\n",
       "      <th>content</th>\n",
       "      <th>rating</th>\n",
       "    </tr>\n",
       "  </thead>\n",
       "  <tbody>\n",
       "    <tr>\n",
       "      <th>0</th>\n",
       "      <td>There are some restaurants that you don't want to tell others about because it's so great and if it becomes too popular you'll never get in. Well this is one and even though it's been open for a long time, I still feel like I don't want to rave about it too much because I'll never be able to get in again. I love the food and the ambiance here. We ate and enjoyed everything. Kale salad, beets...who knew those could actually taste so good you want to order seconds or thirds. The other screaming must have was a mushrooms dish (I know...but trust me it was almost orgasmic). Orichette was out of this world. Topped it off..we had a wonderful wine and desserts are yummy. We had the olive oil cake and a walnut dessert which were awesome. It's got great vibes, great food and it's a pure joy.</td>\n",
       "      <td>4star</td>\n",
       "    </tr>\n",
       "    <tr>\n",
       "      <th>1</th>\n",
       "      <td>Lucky for us there was no wait unlike other times I've seen a line out the door.  We went on a weekend in the late afternoon.  The pizza tasted so fresh and did not take too long.  Service was good.  We all thought the black olives were a bit more bitter than we are used to but probably because they are not canned.  I would go again.</td>\n",
       "      <td>4star</td>\n",
       "    </tr>\n",
       "    <tr>\n",
       "      <th>2</th>\n",
       "      <td>Worst ever Michelin restaurant I have ever been to. There was a Bread and butter counted as a course, as well as a fried onion as a main course.  Never go this restaurant again.</td>\n",
       "      <td>1star</td>\n",
       "    </tr>\n",
       "    <tr>\n",
       "      <th>3</th>\n",
       "      <td>Came here today to celebrate my birthdays with my parents and husband in the dining room. I had a pleasant overall experience. The service was great. I was just a bit underwhelmed by the food (not sure if I just had too high expectations because of the stellar reviews). Overall I would give Gramercy Tavern 4.5 stars for service and 3 stars for food. The four of us ordered the seasonal tasting menu. We had the marinated fluke, lobster salad, hake, spinach tortellini, pasture raised beef, and blueberry. Honestly, the meal was quite unmemorable. All the dishes were cooked well but nothing really stuck out. I think my favorite dish of the night was the hake (which was slightly over salted). My favorite bites were the maitake mushrooms which was served with the spinach tortellini and the complimentary black sesame chocolate truffle (so good)!! The beef was tender but not very flavorful. The spinach tortellini was good but not memorable. Overall, I did have a pleasant experience. The ser...</td>\n",
       "      <td>4star</td>\n",
       "    </tr>\n",
       "    <tr>\n",
       "      <th>4</th>\n",
       "      <td>This, is where hipsters go to get Caribbean food. Gentrification is a hell of a thing.  A few short blocks over on Nostrand, the scene is COMPLETELY different, but I guess Glady's is a sign of the change creeping slowly across this once Caribbean neighborhood.  There's kitschy island tunes playing in the background, and your Jamaican fare is served up in a safe, hipster-friendly manner. Let's not mince words here... the food is straight up bland.  The rice and peas looked like a plate of white rice with about 3 peas in it.  A Jamaican grandmother rolled over in her grave when that was brought out to me.  The jerk chicken, while it tasted okay, felt like it was just reheated from last night.  Ditto for the plantains.  And the ackee and saltfish was just tasteless.  An entire generation of Jamaican grandmothers rolled over with that one. Oye... perhaps they were having an off day.  I was here for brunch, and was thoroughly disappointed by the experience.  The two stars are for the am...</td>\n",
       "      <td>2star</td>\n",
       "    </tr>\n",
       "  </tbody>\n",
       "</table>\n",
       "</div>"
      ],
      "text/plain": [
       "                                                                                                                                                                                                                                                                                                                                                                                                                                                                                                                                                                                                                                                                                                                                                                                                                                                                                                                                                                                                                                   content  \\\n",
       "0                                                                                                                                                                                                                There are some restaurants that you don't want to tell others about because it's so great and if it becomes too popular you'll never get in. Well this is one and even though it's been open for a long time, I still feel like I don't want to rave about it too much because I'll never be able to get in again. I love the food and the ambiance here. We ate and enjoyed everything. Kale salad, beets...who knew those could actually taste so good you want to order seconds or thirds. The other screaming must have was a mushrooms dish (I know...but trust me it was almost orgasmic). Orichette was out of this world. Topped it off..we had a wonderful wine and desserts are yummy. We had the olive oil cake and a walnut dessert which were awesome. It's got great vibes, great food and it's a pure joy.   \n",
       "1                                                                                                                                                                                                                                                                                                                                                                                                                                                                                                                                                                                                                                                                                          Lucky for us there was no wait unlike other times I've seen a line out the door.  We went on a weekend in the late afternoon.  The pizza tasted so fresh and did not take too long.  Service was good.  We all thought the black olives were a bit more bitter than we are used to but probably because they are not canned.  I would go again.   \n",
       "2                                                                                                                                                                                                                                                                                                                                                                                                                                                                                                                                                                                                                                                                                                                                                                                                                                                        Worst ever Michelin restaurant I have ever been to. There was a Bread and butter counted as a course, as well as a fried onion as a main course.  Never go this restaurant again.   \n",
       "3  Came here today to celebrate my birthdays with my parents and husband in the dining room. I had a pleasant overall experience. The service was great. I was just a bit underwhelmed by the food (not sure if I just had too high expectations because of the stellar reviews). Overall I would give Gramercy Tavern 4.5 stars for service and 3 stars for food. The four of us ordered the seasonal tasting menu. We had the marinated fluke, lobster salad, hake, spinach tortellini, pasture raised beef, and blueberry. Honestly, the meal was quite unmemorable. All the dishes were cooked well but nothing really stuck out. I think my favorite dish of the night was the hake (which was slightly over salted). My favorite bites were the maitake mushrooms which was served with the spinach tortellini and the complimentary black sesame chocolate truffle (so good)!! The beef was tender but not very flavorful. The spinach tortellini was good but not memorable. Overall, I did have a pleasant experience. The ser...   \n",
       "4  This, is where hipsters go to get Caribbean food. Gentrification is a hell of a thing.  A few short blocks over on Nostrand, the scene is COMPLETELY different, but I guess Glady's is a sign of the change creeping slowly across this once Caribbean neighborhood.  There's kitschy island tunes playing in the background, and your Jamaican fare is served up in a safe, hipster-friendly manner. Let's not mince words here... the food is straight up bland.  The rice and peas looked like a plate of white rice with about 3 peas in it.  A Jamaican grandmother rolled over in her grave when that was brought out to me.  The jerk chicken, while it tasted okay, felt like it was just reheated from last night.  Ditto for the plantains.  And the ackee and saltfish was just tasteless.  An entire generation of Jamaican grandmothers rolled over with that one. Oye... perhaps they were having an off day.  I was here for brunch, and was thoroughly disappointed by the experience.  The two stars are for the am...   \n",
       "\n",
       "  rating  \n",
       "0  4star  \n",
       "1  4star  \n",
       "2  1star  \n",
       "3  4star  \n",
       "4  2star  "
      ]
     },
     "execution_count": 4,
     "metadata": {},
     "output_type": "execute_result"
    }
   ],
   "source": [
    "pd.options.display.max_colwidth = 1000\n",
    "train_data.head(5) #contents column has text data and rating column has multi-class sentiment "
   ]
  },
  {
   "cell_type": "code",
   "execution_count": 5,
   "metadata": {},
   "outputs": [
    {
     "data": {
      "text/plain": [
       "1star    0.212\n",
       "5star    0.203\n",
       "3star    0.197\n",
       "2star    0.195\n",
       "4star    0.193\n",
       "Name: rating, dtype: float64"
      ]
     },
     "execution_count": 5,
     "metadata": {},
     "output_type": "execute_result"
    }
   ],
   "source": [
    "train_data.rating.value_counts(normalize=True) #balanced target classes"
   ]
  },
  {
   "cell_type": "code",
   "execution_count": 6,
   "metadata": {
    "colab": {
     "base_uri": "https://localhost:8080/"
    },
    "id": "UvLdCiOFwjpE",
    "outputId": "71cbff40-977c-4496-b22d-cf3e47dcbfac"
   },
   "outputs": [
    {
     "name": "stderr",
     "output_type": "stream",
     "text": [
      "C:\\Users\\Jayathilaga\\miniconda3\\lib\\site-packages\\requests\\__init__.py:102: RequestsDependencyWarning: urllib3 (1.26.15) or chardet (5.1.0)/charset_normalizer (2.0.4) doesn't match a supported version!\n",
      "  warnings.warn(\"urllib3 ({}) or chardet ({})/charset_normalizer ({}) doesn't match a supported \"\n"
     ]
    }
   ],
   "source": [
    "# !pip install transformers\n",
    "from transformers import BertTokenizer\n",
    "tokenizer = BertTokenizer.from_pretrained('bert-base-uncased', do_lower_case=True)"
   ]
  },
  {
   "cell_type": "markdown",
   "metadata": {},
   "source": [
    "# Text Preprocessing"
   ]
  },
  {
   "cell_type": "code",
   "execution_count": 7,
   "metadata": {
    "id": "r0TqyRZOwvZ8"
   },
   "outputs": [],
   "source": [
    "MAX_LEN = 300 # restricted to 300 tokens due to memory constraints\n",
    "def bert_preprocessing(data):\n",
    "    input_ids = []\n",
    "    attention_masks = []\n",
    "    for i in data:\n",
    "        encoded_input = tokenizer.encode_plus(text=data_preprocessing(i),add_special_tokens=True,max_length=MAX_LEN,pad_to_max_length=True,return_attention_mask=True)\n",
    "        input_ids.append(encoded_input.get('input_ids'))\n",
    "        attention_masks.append(encoded_input.get('attention_mask'))\n",
    "    input_ids = torch.tensor(input_ids)\n",
    "    attention_masks = torch.tensor(attention_masks)\n",
    "    return input_ids, attention_masks"
   ]
  },
  {
   "cell_type": "code",
   "execution_count": 8,
   "metadata": {
    "colab": {
     "base_uri": "https://localhost:8080/"
    },
    "id": "kHMN5eMl2psu",
    "outputId": "d2d3ba18-6551-4de5-c4dc-193783d80a95"
   },
   "outputs": [
    {
     "name": "stderr",
     "output_type": "stream",
     "text": [
      "Truncation was not explicitly activated but `max_length` is provided a specific value, please use `truncation=True` to explicitly truncate examples to max length. Defaulting to 'longest_first' truncation strategy. If you encode pairs of sequences (GLUE-style) with the tokenizer you can select this strategy more precisely by providing a specific strategy to `truncation`.\n",
      "C:\\Users\\Jayathilaga\\miniconda3\\lib\\site-packages\\transformers\\tokenization_utils_base.py:2346: FutureWarning: The `pad_to_max_length` argument is deprecated and will be removed in a future version, use `padding=True` or `padding='longest'` to pad to the longest sequence in the batch, or use `padding='max_length'` to pad to a max length. In this case, you can give a specific length with `max_length` (e.g. `max_length=45`) or leave max_length to None to pad to the maximal input size of the model (e.g. 512 for Bert).\n",
      "  warnings.warn(\n"
     ]
    }
   ],
   "source": [
    "train_inputs, train_masks = bert_preprocessing(train_data.content)\n",
    "val_inputs, val_masks = bert_preprocessing(val_data.content)"
   ]
  },
  {
   "cell_type": "code",
   "execution_count": 9,
   "metadata": {
    "id": "O6SOdP0U3Skz"
   },
   "outputs": [],
   "source": [
    "from sklearn.preprocessing import LabelEncoder\n",
    "encoder = LabelEncoder()\n",
    "y_train = encoder.fit_transform(train_data.rating)\n",
    "y_val= encoder.transform(val_data.rating)"
   ]
  },
  {
   "cell_type": "code",
   "execution_count": 10,
   "metadata": {
    "id": "9d4_Ez8C349r"
   },
   "outputs": [],
   "source": [
    "from torch.utils.data import TensorDataset, DataLoader, RandomSampler, SequentialSampler\n",
    "train_labels = torch.tensor(y_train)\n",
    "val_labels = torch.tensor(y_val)\n",
    "batch_size = 4\n",
    "\n",
    "train_x = TensorDataset(train_inputs, train_masks, train_labels)\n",
    "train_sampler = RandomSampler(train_x)\n",
    "train_dataloader = DataLoader(train_x, sampler=train_sampler, batch_size=batch_size)\n",
    "\n",
    "val_x = TensorDataset(val_inputs, val_masks, val_labels)\n",
    "val_sampler = SequentialSampler(val_x)\n",
    "val_dataloader = DataLoader(val_x, sampler=val_sampler, batch_size=batch_size)"
   ]
  },
  {
   "cell_type": "markdown",
   "metadata": {},
   "source": [
    "# Fine Tuning BERT for multi class text classification"
   ]
  },
  {
   "cell_type": "code",
   "execution_count": 11,
   "metadata": {
    "id": "P-Kc8GRc4TyW"
   },
   "outputs": [],
   "source": [
    "import torch.nn as nn\n",
    "from transformers import BertModel\n",
    "\n",
    "class Classifier_For_Bert(nn.Module):\n",
    "    def __init__(self, freeze_bert=False):\n",
    "        super(Classifier_For_Bert, self).__init__()\n",
    "        input, hidden, output = 768, 150, 5\n",
    "        self.bert = BertModel.from_pretrained('bert-base-uncased')\n",
    "        # self.bert = DistilBertModel.from_pretrained(\"distilbert-base-uncased\")\n",
    "        self.classifier = nn.Sequential(\n",
    "            nn.Linear(input, hidden),\n",
    "            nn.LeakyReLU(),\n",
    "            nn.Dropout(0.2),\n",
    "            nn.Linear(hidden, hidden),\n",
    "            nn.Dropout(0.3),\n",
    "            nn.Linear(hidden, output)\n",
    "        )\n",
    "        if freeze_bert:\n",
    "            for param in self.bert.parameters():\n",
    "                param.requires_grad = False\n",
    "\n",
    "    def forward(self, input_ids, attention_mask):\n",
    "        outputs = self.bert(input_ids=input_ids,\n",
    "                            attention_mask=attention_mask)        \n",
    "        hs = outputs[0][:, 0, :]\n",
    "        logits = self.classifier(hs)\n",
    "        return logits"
   ]
  },
  {
   "cell_type": "code",
   "execution_count": 12,
   "metadata": {
    "id": "910XCIT646HN"
   },
   "outputs": [],
   "source": [
    "from transformers import AdamW, get_linear_schedule_with_warmup\n",
    "\n",
    "def initialize_model(epochs=4):\n",
    "    bertClassifier = Classifier_For_Bert(freeze_bert=False)\n",
    "    bertClassifier.to(device)\n",
    "    optimizer = AdamW(bertClassifier.parameters(),lr=5e-5,eps=1e-8)\n",
    "    steps = len(train_dataloader) * epochs\n",
    "    scheduler = get_linear_schedule_with_warmup(optimizer, num_warmup_steps=0, num_training_steps=steps)\n",
    "    return bertClassifier, optimizer, scheduler"
   ]
  },
  {
   "cell_type": "code",
   "execution_count": 13,
   "metadata": {
    "id": "mY78P68r646n"
   },
   "outputs": [],
   "source": [
    "import random\n",
    "import time\n",
    "import gc\n",
    "loss_fn = nn.CrossEntropyLoss()\n",
    "\n",
    "def set_seed(seed_value=124):\n",
    "    random.seed(seed_value)\n",
    "    np.random.seed(seed_value)\n",
    "    torch.manual_seed(seed_value)\n",
    "    torch.cuda.manual_seed_all(seed_value)\n",
    "\n",
    "def train(model, train_dataloader, val_dataloader=None, epochs=4, evaluation=False):\n",
    "    print(\"Training...\\n\")\n",
    "    for i in range(epochs):\n",
    "        time_taken = time.time()\n",
    "        total_loss,batch_loss = 0,0\n",
    "        count = 0\n",
    "        model.train()\n",
    "        print(f\"Epoch = {i+1}\")\n",
    "        for step, batch in enumerate(train_dataloader):\n",
    "            count += 1\n",
    "            time_taken, time_epoch = 0,0\n",
    "            b_input_ids, b_attn_mask, b_labels = tuple(t.to(device) for t in batch)\n",
    "            model.zero_grad()\n",
    "            logits = model(b_input_ids, b_attn_mask)\n",
    "            del b_input_ids\n",
    "            del b_attn_mask\n",
    "            gc.collect()\n",
    "            torch.cuda.empty_cache()\n",
    "            loss = loss_fn(logits, b_labels.type(torch.int64).to(device))\n",
    "            batch_loss += loss.item()\n",
    "            total_loss += loss.item()\n",
    "            loss.backward()\n",
    "            torch.nn.utils.clip_grad_norm_(model.parameters(), 1.0)\n",
    "            optimizer.step()\n",
    "            scheduler.step()\n",
    "            if (step % 100 == 0 and step != 0) or (step == len(train_dataloader) - 1):\n",
    "                time_elapsed = time.time() - time_taken\n",
    "                print(f\"step:  {step}, batch loss: {batch_loss / count}, time taken:  {time_elapsed}\")\n",
    "                batch_loss, count = 0, 0\n",
    "                time_taken = time.time()\n",
    "        time_elapsed = time.time() - time_epoch\n",
    "        avg_train_loss = total_loss / len(train_dataloader)\n",
    "        val_loss, val_accuracy = evaluate(model, val_dataloader)\n",
    "        torch.save(model.state_dict(), \"sentiment_model_\"+str(i+1))\n",
    "        print(f\"Epoch = {i+1}, Train_loss = {avg_train_loss}, Time taken: {time_elapsed},\\n\\t Validation loss = {val_loss}, Validation accuracy: {val_accuracy}\")    \n",
    "    print(\"model saved\")"
   ]
  },
  {
   "cell_type": "code",
   "execution_count": 14,
   "metadata": {
    "id": "Sep-W1a89UXf"
   },
   "outputs": [],
   "source": [
    "def evaluate(model, val_dataloader):\n",
    "    model.eval()\n",
    "    val_accuracy = []\n",
    "    val_loss = []\n",
    "    for batch in val_dataloader:\n",
    "        b_input_ids, b_attn_mask, b_labels = tuple(t.to(device) for t in batch)\n",
    "        with torch.no_grad():\n",
    "            logits = model(b_input_ids, b_attn_mask)\n",
    "        loss = loss_fn(logits, b_labels.type(torch.int64).to(device))\n",
    "        val_loss.append(loss.item())\n",
    "        preds = torch.argmax(logits, dim=1).flatten()\n",
    "        accuracy = (preds == b_labels).cpu().numpy().mean() * 100\n",
    "        val_accuracy.append(accuracy)\n",
    "    val_loss = np.mean(val_loss)\n",
    "    val_accuracy = np.mean(val_accuracy)\n",
    "    return val_loss, val_accuracy"
   ]
  },
  {
   "cell_type": "markdown",
   "metadata": {},
   "source": [
    "# Model Training"
   ]
  },
  {
   "cell_type": "code",
   "execution_count": null,
   "metadata": {
    "colab": {
     "base_uri": "https://localhost:8080/",
     "height": 469
    },
    "id": "VGogSUWK9tok",
    "outputId": "73d1ae2b-c4f7-4c6c-802d-9c8e93a10133"
   },
   "outputs": [
    {
     "name": "stderr",
     "output_type": "stream",
     "text": [
      "Some weights of the model checkpoint at bert-base-uncased were not used when initializing BertModel: ['cls.seq_relationship.bias', 'cls.predictions.bias', 'cls.predictions.decoder.weight', 'cls.predictions.transform.dense.weight', 'cls.predictions.transform.LayerNorm.weight', 'cls.predictions.transform.LayerNorm.bias', 'cls.seq_relationship.weight', 'cls.predictions.transform.dense.bias']\n",
      "- This IS expected if you are initializing BertModel from the checkpoint of a model trained on another task or with another architecture (e.g. initializing a BertForSequenceClassification model from a BertForPreTraining model).\n",
      "- This IS NOT expected if you are initializing BertModel from the checkpoint of a model that you expect to be exactly identical (initializing a BertForSequenceClassification model from a BertForSequenceClassification model).\n",
      "C:\\Users\\Jayathilaga\\miniconda3\\lib\\site-packages\\transformers\\optimization.py:391: FutureWarning: This implementation of AdamW is deprecated and will be removed in a future version. Use the PyTorch implementation torch.optim.AdamW instead, or set `no_deprecation_warning=True` to disable this warning\n",
      "  warnings.warn(\n"
     ]
    },
    {
     "name": "stdout",
     "output_type": "stream",
     "text": [
      "Training...\n",
      "\n",
      "Epoch = 1\n",
      "step:  100, batch loss: 1.5712116342960019, time taken:  1685822525.2885852\n",
      "step:  200, batch loss: 1.407916122674942, time taken:  1685822624.8639753\n",
      "step:  249, batch loss: 1.1824569252072548, time taken:  1685822673.9704385\n",
      "Epoch = 1, Train_loss = 1.4296975066661834, Time taken: 1685822673.9714599,\n",
      "\t Validation loss = 1.107772696018219, Validation accuracy: 52.8\n",
      "Epoch = 2\n",
      "step:  100, batch loss: 1.0762032385509792, time taken:  1685822806.3130512\n",
      "step:  200, batch loss: 0.9835787114500999, time taken:  1685822906.079861\n",
      "step:  249, batch loss: 1.0927864191483478, time taken:  1685822954.9409628\n",
      "Epoch = 2, Train_loss = 1.042403731107712, Time taken: 1685822954.9422545,\n",
      "\t Validation loss = 1.0845439903736114, Validation accuracy: 53.0\n",
      "Epoch = 3\n",
      "step:  100, batch loss: 0.8836461400041485, time taken:  1685823087.384557\n",
      "step:  200, batch loss: 0.7188356766104698, time taken:  1685823186.994913\n",
      "step:  249, batch loss: 0.7369441359627004, time taken:  1685823235.919101\n",
      "Epoch = 3, Train_loss = 0.7889683618545532, Time taken: 1685823235.919101,\n",
      "\t Validation loss = 1.202727121591568, Validation accuracy: 51.6\n",
      "Epoch = 4\n",
      "step:  100, batch loss: 0.6274353903118927, time taken:  1685823370.7691343\n",
      "step:  200, batch loss: 0.5706565984338522, time taken:  1685823470.5376136\n",
      "step:  249, batch loss: 0.5343413210797067, time taken:  1685823519.412719\n",
      "Epoch = 4, Train_loss = 0.586477435991168, Time taken: 1685823519.412719,\n",
      "\t Validation loss = 1.224356715708971, Validation accuracy: 61.0\n",
      "Epoch = 5\n",
      "step:  100, batch loss: 0.3671151742080946, time taken:  1685823651.4835892\n",
      "step:  200, batch loss: 0.44544579996727407, time taken:  1685823751.1595235\n",
      "step:  249, batch loss: 0.4543306289278731, time taken:  1685823799.9676237\n",
      "Epoch = 5, Train_loss = 0.415541653636843, Time taken: 1685823799.9687307,\n",
      "\t Validation loss = 1.6653118295669556, Validation accuracy: 58.2\n",
      "Epoch = 6\n",
      "step:  100, batch loss: 0.2990183587932941, time taken:  1685823931.9433808\n",
      "step:  200, batch loss: 0.30148100008722395, time taken:  1685824031.5380092\n",
      "step:  249, batch loss: 0.3387666894788189, time taken:  1685824074.7390642\n",
      "Epoch = 6, Train_loss = 0.3077940881252289, Time taken: 1685824074.7401001,\n",
      "\t Validation loss = 2.0069833590388297, Validation accuracy: 60.4\n",
      "Epoch = 7\n",
      "step:  100, batch loss: 0.1708734972854283, time taken:  1685824111.605103\n",
      "step:  200, batch loss: 0.14363779864739626, time taken:  1685824140.7201731\n",
      "step:  249, batch loss: 0.14640021445324683, time taken:  1685824154.985256\n",
      "Epoch = 7, Train_loss = 0.15518245439510792, Time taken: 1685824154.985256,\n",
      "\t Validation loss = 2.290127961723134, Validation accuracy: 57.4\n",
      "Epoch = 8\n"
     ]
    }
   ],
   "source": [
    "gc.collect()\n",
    "torch.cuda.empty_cache()\n",
    "\n",
    "bertClassifier, optimizer, scheduler = initialize_model(epochs=10)\n",
    "train(bertClassifier, train_dataloader, val_dataloader, epochs=10)"
   ]
  },
  {
   "cell_type": "code",
   "execution_count": null,
   "metadata": {
    "id": "rg7_jFL49yU7"
   },
   "outputs": [],
   "source": [
    "import torch.nn.functional as F\n",
    "def predict(model, test_dataloader):\n",
    "    model.eval()\n",
    "    all_logits = []\n",
    "    for batch in test_dataloader:\n",
    "        b_input_ids, b_attn_mask = tuple(t.to(device) for t in batch)[:2]\n",
    "        with torch.no_grad():\n",
    "            logits = model(b_input_ids, b_attn_mask)\n",
    "        preds = torch.argmax(logits, dim=1).flatten()\n",
    "        all_logits.append(preds.tolist())\n",
    "    pred = [j for i in all_logits for j in i]\n",
    "    return pred\n",
    "y_pred = predict(bertClassifier, val_dataloader)"
   ]
  },
  {
   "cell_type": "markdown",
   "metadata": {},
   "source": [
    "# Multi class Evaluation "
   ]
  },
  {
   "cell_type": "code",
   "execution_count": null,
   "metadata": {
    "id": "6qL825N1921g"
   },
   "outputs": [],
   "source": [
    "from sklearn.metrics import classification_report\n",
    "sentiment = encoder.classes_\n",
    "print(classification_report(y_pred, y_val, target_names=sentiment))"
   ]
  },
  {
   "cell_type": "markdown",
   "metadata": {},
   "source": [
    "# Model Architecture "
   ]
  },
  {
   "cell_type": "code",
   "execution_count": null,
   "metadata": {},
   "outputs": [],
   "source": [
    "model = Classifier_For_Bert(freeze_bert=False)\n",
    "model.load_state_dict(torch.load(\"sentiment_model_3\"))\n",
    "model.eval()"
   ]
  },
  {
   "cell_type": "markdown",
   "metadata": {},
   "source": [
    "## Inference\n",
    "1. The review text can be changed to any input text field of our choice.\n",
    "2. Model is stored in model_0.bin file. Which is being used in the inference code to predict new reviews sentiment.\n",
    "3. There are 5 sentiments ranked from 1-5, 1 being frustrated or unhappy and 5 being the happy and satisfied. "
   ]
  },
  {
   "cell_type": "code",
   "execution_count": null,
   "metadata": {},
   "outputs": [],
   "source": [
    "review_text = '''The worse I would say. While I was reading the menu the server took the menu away. The Afghani chicken was uncooked in the center, when I got it to the notice of the server she said that's the set oven temperature and that's how it is made and did nothing about it. I'm attaching pictures for others to see how pathetic the service recovery can be. I mean we're paying for our meal. Not eating for free right? No water was offered during the course of our dine in. The manager, please be mindful of the people you hire. Thanks. Wouldn't visit again or recommend to anyone!'''\n",
    "input_ids,attention_mask = bert_preprocessing([review_text])\n",
    "\n",
    "output = model(input_ids, attention_mask)\n",
    "prediction = torch.argmax(output, dim=1).flatten()\n",
    "\n",
    "print(f'Reviews: {review_text}')\n",
    "print(f'Sentiment  : {sentiment[prediction]}')"
   ]
  },
  {
   "attachments": {
    "92e628b4-212b-4bd7-a504-ff2baeae3360.png": {
     "image/png": "[encoded data removed]"
    }
   },
   "cell_type": "markdown",
   "metadata": {},
   "source": [
    "![image.png](attachment:92e628b4-212b-4bd7-a504-ff2baeae3360.png)"
   ]
  }
 ],
 "metadata": {
  "accelerator": "GPU",
  "colab": {
   "gpuType": "T4",
   "provenance": []
  },
  "kernelspec": {
   "display_name": "Python 3 (ipykernel)",
   "language": "python",
   "name": "python3"
  },
  "language_info": {
   "codemirror_mode": {
    "name": "ipython",
    "version": 3
   },
   "file_extension": ".py",
   "mimetype": "text/x-python",
   "name": "python",
   "nbconvert_exporter": "python",
   "pygments_lexer": "ipython3",
   "version": "3.9.12"
  },
  "widgets": {
   "application/vnd.jupyter.widget-state+json": {
    "023004676abe42e9bd4263e409ff1128": {
     "model_module": "@jupyter-widgets/controls",
     "model_module_version": "1.5.0",
     "model_name": "HTMLModel",
     "state": {
      "_dom_classes": [],
      "_model_module": "@jupyter-widgets/controls",
      "_model_module_version": "1.5.0",
      "_model_name": "HTMLModel",
      "_view_count": null,
      "_view_module": "@jupyter-widgets/controls",
      "_view_module_version": "1.5.0",
      "_view_name": "HTMLView",
      "description": "",
      "description_tooltip": null,
      "layout": "IPY_MODEL_6087d58acf2a4fb1af82e14aa8e24db4",
      "placeholder": "​",
      "style": "IPY_MODEL_35ae330fb45c409d80183ec7731bab9c",
      "value": "Downloading (…)lve/main/config.json: 100%"
     }
    },
    "047565ad6a5645809273d1ebd99d8de5": {
     "model_module": "@jupyter-widgets/controls",
     "model_module_version": "1.5.0",
     "model_name": "DescriptionStyleModel",
     "state": {
      "_model_module": "@jupyter-widgets/controls",
      "_model_module_version": "1.5.0",
      "_model_name": "DescriptionStyleModel",
      "_view_count": null,
      "_view_module": "@jupyter-widgets/base",
      "_view_module_version": "1.2.0",
      "_view_name": "StyleView",
      "description_width": ""
     }
    },
    "0d702b1932884649813fe20033d5bee7": {
     "model_module": "@jupyter-widgets/controls",
     "model_module_version": "1.5.0",
     "model_name": "DescriptionStyleModel",
     "state": {
      "_model_module": "@jupyter-widgets/controls",
      "_model_module_version": "1.5.0",
      "_model_name": "DescriptionStyleModel",
      "_view_count": null,
      "_view_module": "@jupyter-widgets/base",
      "_view_module_version": "1.2.0",
      "_view_name": "StyleView",
      "description_width": ""
     }
    },
    "1809a7b9524a443eba3c7642a537977d": {
     "model_module": "@jupyter-widgets/controls",
     "model_module_version": "1.5.0",
     "model_name": "FloatProgressModel",
     "state": {
      "_dom_classes": [],
      "_model_module": "@jupyter-widgets/controls",
      "_model_module_version": "1.5.0",
      "_model_name": "FloatProgressModel",
      "_view_count": null,
      "_view_module": "@jupyter-widgets/controls",
      "_view_module_version": "1.5.0",
      "_view_name": "ProgressView",
      "bar_style": "success",
      "description": "",
      "description_tooltip": null,
      "layout": "IPY_MODEL_be74739eafe04162be891aa5f59e58b7",
      "max": 570,
      "min": 0,
      "orientation": "horizontal",
      "style": "IPY_MODEL_fb4c4a49079943af9eb2883a690e097a",
      "value": 570
     }
    },
    "2d68daba11134fb2871beb5cb3ca94a7": {
     "model_module": "@jupyter-widgets/base",
     "model_module_version": "1.2.0",
     "model_name": "LayoutModel",
     "state": {
      "_model_module": "@jupyter-widgets/base",
      "_model_module_version": "1.2.0",
      "_model_name": "LayoutModel",
      "_view_count": null,
      "_view_module": "@jupyter-widgets/base",
      "_view_module_version": "1.2.0",
      "_view_name": "LayoutView",
      "align_content": null,
      "align_items": null,
      "align_self": null,
      "border": null,
      "bottom": null,
      "display": null,
      "flex": null,
      "flex_flow": null,
      "grid_area": null,
      "grid_auto_columns": null,
      "grid_auto_flow": null,
      "grid_auto_rows": null,
      "grid_column": null,
      "grid_gap": null,
      "grid_row": null,
      "grid_template_areas": null,
      "grid_template_columns": null,
      "grid_template_rows": null,
      "height": null,
      "justify_content": null,
      "justify_items": null,
      "left": null,
      "margin": null,
      "max_height": null,
      "max_width": null,
      "min_height": null,
      "min_width": null,
      "object_fit": null,
      "object_position": null,
      "order": null,
      "overflow": null,
      "overflow_x": null,
      "overflow_y": null,
      "padding": null,
      "right": null,
      "top": null,
      "visibility": null,
      "width": null
     }
    },
    "3161c63f17d24e1d9e284760f87ee9e2": {
     "model_module": "@jupyter-widgets/controls",
     "model_module_version": "1.5.0",
     "model_name": "HBoxModel",
     "state": {
      "_dom_classes": [],
      "_model_module": "@jupyter-widgets/controls",
      "_model_module_version": "1.5.0",
      "_model_name": "HBoxModel",
      "_view_count": null,
      "_view_module": "@jupyter-widgets/controls",
      "_view_module_version": "1.5.0",
      "_view_name": "HBoxView",
      "box_style": "",
      "children": [
       "IPY_MODEL_6d03e9b49c8e4bfb9daab065ef5c041c",
       "IPY_MODEL_9c20964a5f44476abcee2cdcfaff1cb5",
       "IPY_MODEL_d178f20a9d0a45559bfd99b531ca500c"
      ],
      "layout": "IPY_MODEL_e2f3a645e91746ea97cd1a6673e3b9b4"
     }
    },
    "35ae330fb45c409d80183ec7731bab9c": {
     "model_module": "@jupyter-widgets/controls",
     "model_module_version": "1.5.0",
     "model_name": "DescriptionStyleModel",
     "state": {
      "_model_module": "@jupyter-widgets/controls",
      "_model_module_version": "1.5.0",
      "_model_name": "DescriptionStyleModel",
      "_view_count": null,
      "_view_module": "@jupyter-widgets/base",
      "_view_module_version": "1.2.0",
      "_view_name": "StyleView",
      "description_width": ""
     }
    },
    "478f5e91284840c3931ba76e24e0c925": {
     "model_module": "@jupyter-widgets/controls",
     "model_module_version": "1.5.0",
     "model_name": "DescriptionStyleModel",
     "state": {
      "_model_module": "@jupyter-widgets/controls",
      "_model_module_version": "1.5.0",
      "_model_name": "DescriptionStyleModel",
      "_view_count": null,
      "_view_module": "@jupyter-widgets/base",
      "_view_module_version": "1.2.0",
      "_view_name": "StyleView",
      "description_width": ""
     }
    },
    "4c640799d39c4ae0b6e88f55a4421edd": {
     "model_module": "@jupyter-widgets/controls",
     "model_module_version": "1.5.0",
     "model_name": "DescriptionStyleModel",
     "state": {
      "_model_module": "@jupyter-widgets/controls",
      "_model_module_version": "1.5.0",
      "_model_name": "DescriptionStyleModel",
      "_view_count": null,
      "_view_module": "@jupyter-widgets/base",
      "_view_module_version": "1.2.0",
      "_view_name": "StyleView",
      "description_width": ""
     }
    },
    "4e825759d54848408b66aa4bbe3d0a36": {
     "model_module": "@jupyter-widgets/base",
     "model_module_version": "1.2.0",
     "model_name": "LayoutModel",
     "state": {
      "_model_module": "@jupyter-widgets/base",
      "_model_module_version": "1.2.0",
      "_model_name": "LayoutModel",
      "_view_count": null,
      "_view_module": "@jupyter-widgets/base",
      "_view_module_version": "1.2.0",
      "_view_name": "LayoutView",
      "align_content": null,
      "align_items": null,
      "align_self": null,
      "border": null,
      "bottom": null,
      "display": null,
      "flex": null,
      "flex_flow": null,
      "grid_area": null,
      "grid_auto_columns": null,
      "grid_auto_flow": null,
      "grid_auto_rows": null,
      "grid_column": null,
      "grid_gap": null,
      "grid_row": null,
      "grid_template_areas": null,
      "grid_template_columns": null,
      "grid_template_rows": null,
      "height": null,
      "justify_content": null,
      "justify_items": null,
      "left": null,
      "margin": null,
      "max_height": null,
      "max_width": null,
      "min_height": null,
      "min_width": null,
      "object_fit": null,
      "object_position": null,
      "order": null,
      "overflow": null,
      "overflow_x": null,
      "overflow_y": null,
      "padding": null,
      "right": null,
      "top": null,
      "visibility": null,
      "width": null
     }
    },
    "5069347e26bd4112813d38b89d859868": {
     "model_module": "@jupyter-widgets/controls",
     "model_module_version": "1.5.0",
     "model_name": "FloatProgressModel",
     "state": {
      "_dom_classes": [],
      "_model_module": "@jupyter-widgets/controls",
      "_model_module_version": "1.5.0",
      "_model_name": "FloatProgressModel",
      "_view_count": null,
      "_view_module": "@jupyter-widgets/controls",
      "_view_module_version": "1.5.0",
      "_view_name": "ProgressView",
      "bar_style": "success",
      "description": "",
      "description_tooltip": null,
      "layout": "IPY_MODEL_57e6f9df4fe14658ba8206c2d976cf1c",
      "max": 28,
      "min": 0,
      "orientation": "horizontal",
      "style": "IPY_MODEL_8f733983f46e439586a491412382ad57",
      "value": 28
     }
    },
    "54ac7dc5447b4b768a9382abb820632c": {
     "model_module": "@jupyter-widgets/controls",
     "model_module_version": "1.5.0",
     "model_name": "HTMLModel",
     "state": {
      "_dom_classes": [],
      "_model_module": "@jupyter-widgets/controls",
      "_model_module_version": "1.5.0",
      "_model_name": "HTMLModel",
      "_view_count": null,
      "_view_module": "@jupyter-widgets/controls",
      "_view_module_version": "1.5.0",
      "_view_name": "HTMLView",
      "description": "",
      "description_tooltip": null,
      "layout": "IPY_MODEL_c4c883cf566947d9b93cb6b528aaad87",
      "placeholder": "​",
      "style": "IPY_MODEL_4c640799d39c4ae0b6e88f55a4421edd",
      "value": " 570/570 [00:00&lt;00:00, 37.8kB/s]"
     }
    },
    "57e6f9df4fe14658ba8206c2d976cf1c": {
     "model_module": "@jupyter-widgets/base",
     "model_module_version": "1.2.0",
     "model_name": "LayoutModel",
     "state": {
      "_model_module": "@jupyter-widgets/base",
      "_model_module_version": "1.2.0",
      "_model_name": "LayoutModel",
      "_view_count": null,
      "_view_module": "@jupyter-widgets/base",
      "_view_module_version": "1.2.0",
      "_view_name": "LayoutView",
      "align_content": null,
      "align_items": null,
      "align_self": null,
      "border": null,
      "bottom": null,
      "display": null,
      "flex": null,
      "flex_flow": null,
      "grid_area": null,
      "grid_auto_columns": null,
      "grid_auto_flow": null,
      "grid_auto_rows": null,
      "grid_column": null,
      "grid_gap": null,
      "grid_row": null,
      "grid_template_areas": null,
      "grid_template_columns": null,
      "grid_template_rows": null,
      "height": null,
      "justify_content": null,
      "justify_items": null,
      "left": null,
      "margin": null,
      "max_height": null,
      "max_width": null,
      "min_height": null,
      "min_width": null,
      "object_fit": null,
      "object_position": null,
      "order": null,
      "overflow": null,
      "overflow_x": null,
      "overflow_y": null,
      "padding": null,
      "right": null,
      "top": null,
      "visibility": null,
      "width": null
     }
    },
    "5e67696312cf4149b38d8b83a291a3f6": {
     "model_module": "@jupyter-widgets/controls",
     "model_module_version": "1.5.0",
     "model_name": "HTMLModel",
     "state": {
      "_dom_classes": [],
      "_model_module": "@jupyter-widgets/controls",
      "_model_module_version": "1.5.0",
      "_model_name": "HTMLModel",
      "_view_count": null,
      "_view_module": "@jupyter-widgets/controls",
      "_view_module_version": "1.5.0",
      "_view_name": "HTMLView",
      "description": "",
      "description_tooltip": null,
      "layout": "IPY_MODEL_4e825759d54848408b66aa4bbe3d0a36",
      "placeholder": "​",
      "style": "IPY_MODEL_478f5e91284840c3931ba76e24e0c925",
      "value": "Downloading (…)okenizer_config.json: 100%"
     }
    },
    "6087d58acf2a4fb1af82e14aa8e24db4": {
     "model_module": "@jupyter-widgets/base",
     "model_module_version": "1.2.0",
     "model_name": "LayoutModel",
     "state": {
      "_model_module": "@jupyter-widgets/base",
      "_model_module_version": "1.2.0",
      "_model_name": "LayoutModel",
      "_view_count": null,
      "_view_module": "@jupyter-widgets/base",
      "_view_module_version": "1.2.0",
      "_view_name": "LayoutView",
      "align_content": null,
      "align_items": null,
      "align_self": null,
      "border": null,
      "bottom": null,
      "display": null,
      "flex": null,
      "flex_flow": null,
      "grid_area": null,
      "grid_auto_columns": null,
      "grid_auto_flow": null,
      "grid_auto_rows": null,
      "grid_column": null,
      "grid_gap": null,
      "grid_row": null,
      "grid_template_areas": null,
      "grid_template_columns": null,
      "grid_template_rows": null,
      "height": null,
      "justify_content": null,
      "justify_items": null,
      "left": null,
      "margin": null,
      "max_height": null,
      "max_width": null,
      "min_height": null,
      "min_width": null,
      "object_fit": null,
      "object_position": null,
      "order": null,
      "overflow": null,
      "overflow_x": null,
      "overflow_y": null,
      "padding": null,
      "right": null,
      "top": null,
      "visibility": null,
      "width": null
     }
    },
    "6d03e9b49c8e4bfb9daab065ef5c041c": {
     "model_module": "@jupyter-widgets/controls",
     "model_module_version": "1.5.0",
     "model_name": "HTMLModel",
     "state": {
      "_dom_classes": [],
      "_model_module": "@jupyter-widgets/controls",
      "_model_module_version": "1.5.0",
      "_model_name": "HTMLModel",
      "_view_count": null,
      "_view_module": "@jupyter-widgets/controls",
      "_view_module_version": "1.5.0",
      "_view_name": "HTMLView",
      "description": "",
      "description_tooltip": null,
      "layout": "IPY_MODEL_d164c0e89b6644229bc6f31c63ecd530",
      "placeholder": "​",
      "style": "IPY_MODEL_cfdf5063c6b2445ca1c2cca45599a824",
      "value": "Downloading (…)solve/main/vocab.txt: 100%"
     }
    },
    "75fe1fb909844498b9ea321834bc1bf6": {
     "model_module": "@jupyter-widgets/controls",
     "model_module_version": "1.5.0",
     "model_name": "ProgressStyleModel",
     "state": {
      "_model_module": "@jupyter-widgets/controls",
      "_model_module_version": "1.5.0",
      "_model_name": "ProgressStyleModel",
      "_view_count": null,
      "_view_module": "@jupyter-widgets/base",
      "_view_module_version": "1.2.0",
      "_view_name": "StyleView",
      "bar_color": null,
      "description_width": ""
     }
    },
    "77a5e12160bb47cba58603963324a5bc": {
     "model_module": "@jupyter-widgets/base",
     "model_module_version": "1.2.0",
     "model_name": "LayoutModel",
     "state": {
      "_model_module": "@jupyter-widgets/base",
      "_model_module_version": "1.2.0",
      "_model_name": "LayoutModel",
      "_view_count": null,
      "_view_module": "@jupyter-widgets/base",
      "_view_module_version": "1.2.0",
      "_view_name": "LayoutView",
      "align_content": null,
      "align_items": null,
      "align_self": null,
      "border": null,
      "bottom": null,
      "display": null,
      "flex": null,
      "flex_flow": null,
      "grid_area": null,
      "grid_auto_columns": null,
      "grid_auto_flow": null,
      "grid_auto_rows": null,
      "grid_column": null,
      "grid_gap": null,
      "grid_row": null,
      "grid_template_areas": null,
      "grid_template_columns": null,
      "grid_template_rows": null,
      "height": null,
      "justify_content": null,
      "justify_items": null,
      "left": null,
      "margin": null,
      "max_height": null,
      "max_width": null,
      "min_height": null,
      "min_width": null,
      "object_fit": null,
      "object_position": null,
      "order": null,
      "overflow": null,
      "overflow_x": null,
      "overflow_y": null,
      "padding": null,
      "right": null,
      "top": null,
      "visibility": null,
      "width": null
     }
    },
    "83ebcfcb7aed41c2bf547f8b061ca7d7": {
     "model_module": "@jupyter-widgets/base",
     "model_module_version": "1.2.0",
     "model_name": "LayoutModel",
     "state": {
      "_model_module": "@jupyter-widgets/base",
      "_model_module_version": "1.2.0",
      "_model_name": "LayoutModel",
      "_view_count": null,
      "_view_module": "@jupyter-widgets/base",
      "_view_module_version": "1.2.0",
      "_view_name": "LayoutView",
      "align_content": null,
      "align_items": null,
      "align_self": null,
      "border": null,
      "bottom": null,
      "display": null,
      "flex": null,
      "flex_flow": null,
      "grid_area": null,
      "grid_auto_columns": null,
      "grid_auto_flow": null,
      "grid_auto_rows": null,
      "grid_column": null,
      "grid_gap": null,
      "grid_row": null,
      "grid_template_areas": null,
      "grid_template_columns": null,
      "grid_template_rows": null,
      "height": null,
      "justify_content": null,
      "justify_items": null,
      "left": null,
      "margin": null,
      "max_height": null,
      "max_width": null,
      "min_height": null,
      "min_width": null,
      "object_fit": null,
      "object_position": null,
      "order": null,
      "overflow": null,
      "overflow_x": null,
      "overflow_y": null,
      "padding": null,
      "right": null,
      "top": null,
      "visibility": null,
      "width": null
     }
    },
    "8f733983f46e439586a491412382ad57": {
     "model_module": "@jupyter-widgets/controls",
     "model_module_version": "1.5.0",
     "model_name": "ProgressStyleModel",
     "state": {
      "_model_module": "@jupyter-widgets/controls",
      "_model_module_version": "1.5.0",
      "_model_name": "ProgressStyleModel",
      "_view_count": null,
      "_view_module": "@jupyter-widgets/base",
      "_view_module_version": "1.2.0",
      "_view_name": "StyleView",
      "bar_color": null,
      "description_width": ""
     }
    },
    "9c20964a5f44476abcee2cdcfaff1cb5": {
     "model_module": "@jupyter-widgets/controls",
     "model_module_version": "1.5.0",
     "model_name": "FloatProgressModel",
     "state": {
      "_dom_classes": [],
      "_model_module": "@jupyter-widgets/controls",
      "_model_module_version": "1.5.0",
      "_model_name": "FloatProgressModel",
      "_view_count": null,
      "_view_module": "@jupyter-widgets/controls",
      "_view_module_version": "1.5.0",
      "_view_name": "ProgressView",
      "bar_style": "success",
      "description": "",
      "description_tooltip": null,
      "layout": "IPY_MODEL_83ebcfcb7aed41c2bf547f8b061ca7d7",
      "max": 231508,
      "min": 0,
      "orientation": "horizontal",
      "style": "IPY_MODEL_75fe1fb909844498b9ea321834bc1bf6",
      "value": 231508
     }
    },
    "bb062919a26f4287899ec25f00115ead": {
     "model_module": "@jupyter-widgets/base",
     "model_module_version": "1.2.0",
     "model_name": "LayoutModel",
     "state": {
      "_model_module": "@jupyter-widgets/base",
      "_model_module_version": "1.2.0",
      "_model_name": "LayoutModel",
      "_view_count": null,
      "_view_module": "@jupyter-widgets/base",
      "_view_module_version": "1.2.0",
      "_view_name": "LayoutView",
      "align_content": null,
      "align_items": null,
      "align_self": null,
      "border": null,
      "bottom": null,
      "display": null,
      "flex": null,
      "flex_flow": null,
      "grid_area": null,
      "grid_auto_columns": null,
      "grid_auto_flow": null,
      "grid_auto_rows": null,
      "grid_column": null,
      "grid_gap": null,
      "grid_row": null,
      "grid_template_areas": null,
      "grid_template_columns": null,
      "grid_template_rows": null,
      "height": null,
      "justify_content": null,
      "justify_items": null,
      "left": null,
      "margin": null,
      "max_height": null,
      "max_width": null,
      "min_height": null,
      "min_width": null,
      "object_fit": null,
      "object_position": null,
      "order": null,
      "overflow": null,
      "overflow_x": null,
      "overflow_y": null,
      "padding": null,
      "right": null,
      "top": null,
      "visibility": null,
      "width": null
     }
    },
    "be74739eafe04162be891aa5f59e58b7": {
     "model_module": "@jupyter-widgets/base",
     "model_module_version": "1.2.0",
     "model_name": "LayoutModel",
     "state": {
      "_model_module": "@jupyter-widgets/base",
      "_model_module_version": "1.2.0",
      "_model_name": "LayoutModel",
      "_view_count": null,
      "_view_module": "@jupyter-widgets/base",
      "_view_module_version": "1.2.0",
      "_view_name": "LayoutView",
      "align_content": null,
      "align_items": null,
      "align_self": null,
      "border": null,
      "bottom": null,
      "display": null,
      "flex": null,
      "flex_flow": null,
      "grid_area": null,
      "grid_auto_columns": null,
      "grid_auto_flow": null,
      "grid_auto_rows": null,
      "grid_column": null,
      "grid_gap": null,
      "grid_row": null,
      "grid_template_areas": null,
      "grid_template_columns": null,
      "grid_template_rows": null,
      "height": null,
      "justify_content": null,
      "justify_items": null,
      "left": null,
      "margin": null,
      "max_height": null,
      "max_width": null,
      "min_height": null,
      "min_width": null,
      "object_fit": null,
      "object_position": null,
      "order": null,
      "overflow": null,
      "overflow_x": null,
      "overflow_y": null,
      "padding": null,
      "right": null,
      "top": null,
      "visibility": null,
      "width": null
     }
    },
    "c4c883cf566947d9b93cb6b528aaad87": {
     "model_module": "@jupyter-widgets/base",
     "model_module_version": "1.2.0",
     "model_name": "LayoutModel",
     "state": {
      "_model_module": "@jupyter-widgets/base",
      "_model_module_version": "1.2.0",
      "_model_name": "LayoutModel",
      "_view_count": null,
      "_view_module": "@jupyter-widgets/base",
      "_view_module_version": "1.2.0",
      "_view_name": "LayoutView",
      "align_content": null,
      "align_items": null,
      "align_self": null,
      "border": null,
      "bottom": null,
      "display": null,
      "flex": null,
      "flex_flow": null,
      "grid_area": null,
      "grid_auto_columns": null,
      "grid_auto_flow": null,
      "grid_auto_rows": null,
      "grid_column": null,
      "grid_gap": null,
      "grid_row": null,
      "grid_template_areas": null,
      "grid_template_columns": null,
      "grid_template_rows": null,
      "height": null,
      "justify_content": null,
      "justify_items": null,
      "left": null,
      "margin": null,
      "max_height": null,
      "max_width": null,
      "min_height": null,
      "min_width": null,
      "object_fit": null,
      "object_position": null,
      "order": null,
      "overflow": null,
      "overflow_x": null,
      "overflow_y": null,
      "padding": null,
      "right": null,
      "top": null,
      "visibility": null,
      "width": null
     }
    },
    "cfdf5063c6b2445ca1c2cca45599a824": {
     "model_module": "@jupyter-widgets/controls",
     "model_module_version": "1.5.0",
     "model_name": "DescriptionStyleModel",
     "state": {
      "_model_module": "@jupyter-widgets/controls",
      "_model_module_version": "1.5.0",
      "_model_name": "DescriptionStyleModel",
      "_view_count": null,
      "_view_module": "@jupyter-widgets/base",
      "_view_module_version": "1.2.0",
      "_view_name": "StyleView",
      "description_width": ""
     }
    },
    "d164c0e89b6644229bc6f31c63ecd530": {
     "model_module": "@jupyter-widgets/base",
     "model_module_version": "1.2.0",
     "model_name": "LayoutModel",
     "state": {
      "_model_module": "@jupyter-widgets/base",
      "_model_module_version": "1.2.0",
      "_model_name": "LayoutModel",
      "_view_count": null,
      "_view_module": "@jupyter-widgets/base",
      "_view_module_version": "1.2.0",
      "_view_name": "LayoutView",
      "align_content": null,
      "align_items": null,
      "align_self": null,
      "border": null,
      "bottom": null,
      "display": null,
      "flex": null,
      "flex_flow": null,
      "grid_area": null,
      "grid_auto_columns": null,
      "grid_auto_flow": null,
      "grid_auto_rows": null,
      "grid_column": null,
      "grid_gap": null,
      "grid_row": null,
      "grid_template_areas": null,
      "grid_template_columns": null,
      "grid_template_rows": null,
      "height": null,
      "justify_content": null,
      "justify_items": null,
      "left": null,
      "margin": null,
      "max_height": null,
      "max_width": null,
      "min_height": null,
      "min_width": null,
      "object_fit": null,
      "object_position": null,
      "order": null,
      "overflow": null,
      "overflow_x": null,
      "overflow_y": null,
      "padding": null,
      "right": null,
      "top": null,
      "visibility": null,
      "width": null
     }
    },
    "d178f20a9d0a45559bfd99b531ca500c": {
     "model_module": "@jupyter-widgets/controls",
     "model_module_version": "1.5.0",
     "model_name": "HTMLModel",
     "state": {
      "_dom_classes": [],
      "_model_module": "@jupyter-widgets/controls",
      "_model_module_version": "1.5.0",
      "_model_name": "HTMLModel",
      "_view_count": null,
      "_view_module": "@jupyter-widgets/controls",
      "_view_module_version": "1.5.0",
      "_view_name": "HTMLView",
      "description": "",
      "description_tooltip": null,
      "layout": "IPY_MODEL_bb062919a26f4287899ec25f00115ead",
      "placeholder": "​",
      "style": "IPY_MODEL_0d702b1932884649813fe20033d5bee7",
      "value": " 232k/232k [00:00&lt;00:00, 1.14MB/s]"
     }
    },
    "d2ba64a2275c4fd9a4554e8a8ce3dd77": {
     "model_module": "@jupyter-widgets/controls",
     "model_module_version": "1.5.0",
     "model_name": "HBoxModel",
     "state": {
      "_dom_classes": [],
      "_model_module": "@jupyter-widgets/controls",
      "_model_module_version": "1.5.0",
      "_model_name": "HBoxModel",
      "_view_count": null,
      "_view_module": "@jupyter-widgets/controls",
      "_view_module_version": "1.5.0",
      "_view_name": "HBoxView",
      "box_style": "",
      "children": [
       "IPY_MODEL_5e67696312cf4149b38d8b83a291a3f6",
       "IPY_MODEL_5069347e26bd4112813d38b89d859868",
       "IPY_MODEL_f3483f9c29e642bc9947c5c49b2e21bb"
      ],
      "layout": "IPY_MODEL_77a5e12160bb47cba58603963324a5bc"
     }
    },
    "d4200d1baa0349d4bbdedf987ac8ce78": {
     "model_module": "@jupyter-widgets/base",
     "model_module_version": "1.2.0",
     "model_name": "LayoutModel",
     "state": {
      "_model_module": "@jupyter-widgets/base",
      "_model_module_version": "1.2.0",
      "_model_name": "LayoutModel",
      "_view_count": null,
      "_view_module": "@jupyter-widgets/base",
      "_view_module_version": "1.2.0",
      "_view_name": "LayoutView",
      "align_content": null,
      "align_items": null,
      "align_self": null,
      "border": null,
      "bottom": null,
      "display": null,
      "flex": null,
      "flex_flow": null,
      "grid_area": null,
      "grid_auto_columns": null,
      "grid_auto_flow": null,
      "grid_auto_rows": null,
      "grid_column": null,
      "grid_gap": null,
      "grid_row": null,
      "grid_template_areas": null,
      "grid_template_columns": null,
      "grid_template_rows": null,
      "height": null,
      "justify_content": null,
      "justify_items": null,
      "left": null,
      "margin": null,
      "max_height": null,
      "max_width": null,
      "min_height": null,
      "min_width": null,
      "object_fit": null,
      "object_position": null,
      "order": null,
      "overflow": null,
      "overflow_x": null,
      "overflow_y": null,
      "padding": null,
      "right": null,
      "top": null,
      "visibility": null,
      "width": null
     }
    },
    "e05318f95fb64f8fb83a52f9343543bd": {
     "model_module": "@jupyter-widgets/controls",
     "model_module_version": "1.5.0",
     "model_name": "HBoxModel",
     "state": {
      "_dom_classes": [],
      "_model_module": "@jupyter-widgets/controls",
      "_model_module_version": "1.5.0",
      "_model_name": "HBoxModel",
      "_view_count": null,
      "_view_module": "@jupyter-widgets/controls",
      "_view_module_version": "1.5.0",
      "_view_name": "HBoxView",
      "box_style": "",
      "children": [
       "IPY_MODEL_023004676abe42e9bd4263e409ff1128",
       "IPY_MODEL_1809a7b9524a443eba3c7642a537977d",
       "IPY_MODEL_54ac7dc5447b4b768a9382abb820632c"
      ],
      "layout": "IPY_MODEL_d4200d1baa0349d4bbdedf987ac8ce78"
     }
    },
    "e2f3a645e91746ea97cd1a6673e3b9b4": {
     "model_module": "@jupyter-widgets/base",
     "model_module_version": "1.2.0",
     "model_name": "LayoutModel",
     "state": {
      "_model_module": "@jupyter-widgets/base",
      "_model_module_version": "1.2.0",
      "_model_name": "LayoutModel",
      "_view_count": null,
      "_view_module": "@jupyter-widgets/base",
      "_view_module_version": "1.2.0",
      "_view_name": "LayoutView",
      "align_content": null,
      "align_items": null,
      "align_self": null,
      "border": null,
      "bottom": null,
      "display": null,
      "flex": null,
      "flex_flow": null,
      "grid_area": null,
      "grid_auto_columns": null,
      "grid_auto_flow": null,
      "grid_auto_rows": null,
      "grid_column": null,
      "grid_gap": null,
      "grid_row": null,
      "grid_template_areas": null,
      "grid_template_columns": null,
      "grid_template_rows": null,
      "height": null,
      "justify_content": null,
      "justify_items": null,
      "left": null,
      "margin": null,
      "max_height": null,
      "max_width": null,
      "min_height": null,
      "min_width": null,
      "object_fit": null,
      "object_position": null,
      "order": null,
      "overflow": null,
      "overflow_x": null,
      "overflow_y": null,
      "padding": null,
      "right": null,
      "top": null,
      "visibility": null,
      "width": null
     }
    },
    "f3483f9c29e642bc9947c5c49b2e21bb": {
     "model_module": "@jupyter-widgets/controls",
     "model_module_version": "1.5.0",
     "model_name": "HTMLModel",
     "state": {
      "_dom_classes": [],
      "_model_module": "@jupyter-widgets/controls",
      "_model_module_version": "1.5.0",
      "_model_name": "HTMLModel",
      "_view_count": null,
      "_view_module": "@jupyter-widgets/controls",
      "_view_module_version": "1.5.0",
      "_view_name": "HTMLView",
      "description": "",
      "description_tooltip": null,
      "layout": "IPY_MODEL_2d68daba11134fb2871beb5cb3ca94a7",
      "placeholder": "​",
      "style": "IPY_MODEL_047565ad6a5645809273d1ebd99d8de5",
      "value": " 28.0/28.0 [00:00&lt;00:00, 965B/s]"
     }
    },
    "fb4c4a49079943af9eb2883a690e097a": {
     "model_module": "@jupyter-widgets/controls",
     "model_module_version": "1.5.0",
     "model_name": "ProgressStyleModel",
     "state": {
      "_model_module": "@jupyter-widgets/controls",
      "_model_module_version": "1.5.0",
      "_model_name": "ProgressStyleModel",
      "_view_count": null,
      "_view_module": "@jupyter-widgets/base",
      "_view_module_version": "1.2.0",
      "_view_name": "StyleView",
      "bar_color": null,
      "description_width": ""
     }
    }
   }
  }
 },
 "nbformat": 4,
 "nbformat_minor": 4
}
